{
 "cells": [
  {
   "cell_type": "markdown",
   "metadata": {},
   "source": [
    "# Dicionário dos Campos de dados"
   ]
  },
  {
   "cell_type": "markdown",
   "metadata": {},
   "source": [
    "[Regras de Associação](https://www.datacamp.com/community/tutorials/market-basket-analysis-r)\n",
    "\n",
    "\n",
    "Este dicionário tem como objetivo descrever cada um dos campos de dados na planilha que contém os dados de respostas para o formulário Pesquisa Envelhecer Bem.\n",
    "\n",
    "A seguir temos a descrição de cada coluna:"
   ]
  },
  {
   "cell_type": "markdown",
   "metadata": {},
   "source": [
    "* **data_horario**: data e horário que o participante respondeu o formulário."
   ]
  },
  {
   "cell_type": "markdown",
   "metadata": {},
   "source": [
    "* **email**: endereço de e-mail do participante."
   ]
  },
  {
   "cell_type": "code",
   "execution_count": 1,
   "metadata": {},
   "outputs": [],
   "source": [
    "df = read.csv('dados_tratados.csv', sep = ',', stringsAsFactors=T)"
   ]
  },
  {
   "cell_type": "code",
   "execution_count": 2,
   "metadata": {},
   "outputs": [
    {
     "data": {
      "text/html": [
       "<table>\n",
       "<caption>A data.frame: 2 × 51</caption>\n",
       "<thead>\n",
       "\t<tr><th></th><th scope=col>datetime</th><th scope=col>e.mail</th><th scope=col>faixa_idade</th><th scope=col>Q1</th><th scope=col>Q2</th><th scope=col>PqQ2</th><th scope=col>Q3</th><th scope=col>Q4</th><th scope=col>Q5</th><th scope=col>Q6</th><th scope=col>⋯</th><th scope=col>Q17_V2</th><th scope=col>Q18_V2</th><th scope=col>Q20_V2</th><th scope=col>Q1_V2</th><th scope=col>Q11_V2</th><th scope=col>Q4_V2</th><th scope=col>Q9_V2</th><th scope=col>Q25_V2</th><th scope=col>Q13_V2</th><th scope=col>Q22_V2</th></tr>\n",
       "\t<tr><th></th><th scope=col>&lt;fct&gt;</th><th scope=col>&lt;fct&gt;</th><th scope=col>&lt;fct&gt;</th><th scope=col>&lt;fct&gt;</th><th scope=col>&lt;fct&gt;</th><th scope=col>&lt;fct&gt;</th><th scope=col>&lt;int&gt;</th><th scope=col>&lt;fct&gt;</th><th scope=col>&lt;fct&gt;</th><th scope=col>&lt;fct&gt;</th><th scope=col>⋯</th><th scope=col>&lt;fct&gt;</th><th scope=col>&lt;fct&gt;</th><th scope=col>&lt;fct&gt;</th><th scope=col>&lt;fct&gt;</th><th scope=col>&lt;fct&gt;</th><th scope=col>&lt;fct&gt;</th><th scope=col>&lt;fct&gt;</th><th scope=col>&lt;fct&gt;</th><th scope=col>&lt;fct&gt;</th><th scope=col>&lt;fct&gt;</th></tr>\n",
       "</thead>\n",
       "<tbody>\n",
       "\t<tr><th scope=row>1</th><td>16/04/2020 23:22:40</td><td>ivanferrarimartini@yahoo.com.br</td><td>idade_20a29</td><td>Sim, para os próximos 15 anos.</td><td>Não</td><td>sdfsaf                                                                  </td><td>1</td><td>Relacionamentos, Financeiro, asdfasdf</td><td>Sim</td><td>Sim</td><td>⋯</td><td>possuiInvestimento   </td><td>BomConvivioSim</td><td>EssasPessoasNaoPodemAjudarNoFuturo</td><td>planeja_proximos_5anos</td><td>exercicios1a3vzSemana</td><td>Relacionamentos_Q4 Financeiro_Q4 asdfasdf_Q4</td><td>Mídias_Sociais_Q9 Revistas_e_Jornais_Q9</td><td>Website_Q25 WhatsApp_Q25</td><td>exames1vezAno</td><td>AppMuitoUtil      </td></tr>\n",
       "\t<tr><th scope=row>2</th><td>17/04/2020 20:36:50</td><td>gustavosedoc@yahoo.com.br      </td><td>idade_30a39</td><td>Sim, para os próximos 5 anos. </td><td>Sim</td><td>Metabolismo ficando lento. Cabelo caindo. Me preocupo com esses sinais. </td><td>2</td><td>Relacionamentos, Financeiro, Saúde   </td><td>Sim</td><td>Sim</td><td>⋯</td><td>NaoPossuiInvestimento</td><td>BomConvivioSim</td><td>EssasPessoasPodemAjudarNoFuturo   </td><td>planeja_proximos_5anos</td><td>naoPraticaExercicios </td><td>Relacionamentos_Q4 Financeiro_Q4 Saúde_Q4   </td><td>Mídias_Sociais_Q9                      </td><td>WhatsApp_Q25            </td><td>exames1vezAno</td><td>AppQuaseNaoUtilizo</td></tr>\n",
       "</tbody>\n",
       "</table>\n"
      ],
      "text/latex": [
       "A data.frame: 2 × 51\n",
       "\\begin{tabular}{r|lllllllllllllllllllll}\n",
       "  & datetime & e.mail & faixa\\_idade & Q1 & Q2 & PqQ2 & Q3 & Q4 & Q5 & Q6 & ⋯ & Q17\\_V2 & Q18\\_V2 & Q20\\_V2 & Q1\\_V2 & Q11\\_V2 & Q4\\_V2 & Q9\\_V2 & Q25\\_V2 & Q13\\_V2 & Q22\\_V2\\\\\n",
       "  & <fct> & <fct> & <fct> & <fct> & <fct> & <fct> & <int> & <fct> & <fct> & <fct> & ⋯ & <fct> & <fct> & <fct> & <fct> & <fct> & <fct> & <fct> & <fct> & <fct> & <fct>\\\\\n",
       "\\hline\n",
       "\t1 & 16/04/2020 23:22:40 & ivanferrarimartini@yahoo.com.br & idade\\_20a29 & Sim, para os próximos 15 anos. & Não & sdfsaf                                                                   & 1 & Relacionamentos, Financeiro, asdfasdf & Sim & Sim & ⋯ & possuiInvestimento    & BomConvivioSim & EssasPessoasNaoPodemAjudarNoFuturo & planeja\\_proximos\\_5anos & exercicios1a3vzSemana & Relacionamentos\\_Q4 Financeiro\\_Q4 asdfasdf\\_Q4 & Mídias\\_Sociais\\_Q9 Revistas\\_e\\_Jornais\\_Q9 & Website\\_Q25 WhatsApp\\_Q25 & exames1vezAno & AppMuitoUtil      \\\\\n",
       "\t2 & 17/04/2020 20:36:50 & gustavosedoc@yahoo.com.br       & idade\\_30a39 & Sim, para os próximos 5 anos.  & Sim & Metabolismo ficando lento. Cabelo caindo. Me preocupo com esses sinais.  & 2 & Relacionamentos, Financeiro, Saúde    & Sim & Sim & ⋯ & NaoPossuiInvestimento & BomConvivioSim & EssasPessoasPodemAjudarNoFuturo    & planeja\\_proximos\\_5anos & naoPraticaExercicios  & Relacionamentos\\_Q4 Financeiro\\_Q4 Saúde\\_Q4    & Mídias\\_Sociais\\_Q9                       & WhatsApp\\_Q25             & exames1vezAno & AppQuaseNaoUtilizo\\\\\n",
       "\\end{tabular}\n"
      ],
      "text/markdown": [
       "\n",
       "A data.frame: 2 × 51\n",
       "\n",
       "| <!--/--> | datetime &lt;fct&gt; | e.mail &lt;fct&gt; | faixa_idade &lt;fct&gt; | Q1 &lt;fct&gt; | Q2 &lt;fct&gt; | PqQ2 &lt;fct&gt; | Q3 &lt;int&gt; | Q4 &lt;fct&gt; | Q5 &lt;fct&gt; | Q6 &lt;fct&gt; | ⋯ ⋯ | Q17_V2 &lt;fct&gt; | Q18_V2 &lt;fct&gt; | Q20_V2 &lt;fct&gt; | Q1_V2 &lt;fct&gt; | Q11_V2 &lt;fct&gt; | Q4_V2 &lt;fct&gt; | Q9_V2 &lt;fct&gt; | Q25_V2 &lt;fct&gt; | Q13_V2 &lt;fct&gt; | Q22_V2 &lt;fct&gt; |\n",
       "|---|---|---|---|---|---|---|---|---|---|---|---|---|---|---|---|---|---|---|---|---|---|\n",
       "| 1 | 16/04/2020 23:22:40 | ivanferrarimartini@yahoo.com.br | idade_20a29 | Sim, para os próximos 15 anos. | Não | sdfsaf                                                                   | 1 | Relacionamentos, Financeiro, asdfasdf | Sim | Sim | ⋯ | possuiInvestimento    | BomConvivioSim | EssasPessoasNaoPodemAjudarNoFuturo | planeja_proximos_5anos | exercicios1a3vzSemana | Relacionamentos_Q4 Financeiro_Q4 asdfasdf_Q4 | Mídias_Sociais_Q9 Revistas_e_Jornais_Q9 | Website_Q25 WhatsApp_Q25 | exames1vezAno | AppMuitoUtil       |\n",
       "| 2 | 17/04/2020 20:36:50 | gustavosedoc@yahoo.com.br       | idade_30a39 | Sim, para os próximos 5 anos.  | Sim | Metabolismo ficando lento. Cabelo caindo. Me preocupo com esses sinais.  | 2 | Relacionamentos, Financeiro, Saúde    | Sim | Sim | ⋯ | NaoPossuiInvestimento | BomConvivioSim | EssasPessoasPodemAjudarNoFuturo    | planeja_proximos_5anos | naoPraticaExercicios  | Relacionamentos_Q4 Financeiro_Q4 Saúde_Q4    | Mídias_Sociais_Q9                       | WhatsApp_Q25             | exames1vezAno | AppQuaseNaoUtilizo |\n",
       "\n"
      ],
      "text/plain": [
       "  datetime            e.mail                          faixa_idade\n",
       "1 16/04/2020 23:22:40 ivanferrarimartini@yahoo.com.br idade_20a29\n",
       "2 17/04/2020 20:36:50 gustavosedoc@yahoo.com.br       idade_30a39\n",
       "  Q1                             Q2 \n",
       "1 Sim, para os próximos 15 anos. Não\n",
       "2 Sim, para os próximos 5 anos.  Sim\n",
       "  PqQ2                                                                     Q3\n",
       "1 sdfsaf                                                                   1 \n",
       "2 Metabolismo ficando lento. Cabelo caindo. Me preocupo com esses sinais.  2 \n",
       "  Q4                                    Q5  Q6  ⋯ Q17_V2               \n",
       "1 Relacionamentos, Financeiro, asdfasdf Sim Sim ⋯ possuiInvestimento   \n",
       "2 Relacionamentos, Financeiro, Saúde    Sim Sim ⋯ NaoPossuiInvestimento\n",
       "  Q18_V2         Q20_V2                             Q1_V2                 \n",
       "1 BomConvivioSim EssasPessoasNaoPodemAjudarNoFuturo planeja_proximos_5anos\n",
       "2 BomConvivioSim EssasPessoasPodemAjudarNoFuturo    planeja_proximos_5anos\n",
       "  Q11_V2                Q4_V2                                       \n",
       "1 exercicios1a3vzSemana Relacionamentos_Q4 Financeiro_Q4 asdfasdf_Q4\n",
       "2 naoPraticaExercicios  Relacionamentos_Q4 Financeiro_Q4 Saúde_Q4   \n",
       "  Q9_V2                                   Q25_V2                  \n",
       "1 Mídias_Sociais_Q9 Revistas_e_Jornais_Q9 Website_Q25 WhatsApp_Q25\n",
       "2 Mídias_Sociais_Q9                       WhatsApp_Q25            \n",
       "  Q13_V2        Q22_V2            \n",
       "1 exames1vezAno AppMuitoUtil      \n",
       "2 exames1vezAno AppQuaseNaoUtilizo"
      ]
     },
     "metadata": {},
     "output_type": "display_data"
    }
   ],
   "source": [
    "head(df, 2)"
   ]
  },
  {
   "cell_type": "code",
   "execution_count": 3,
   "metadata": {},
   "outputs": [],
   "source": [
    "df[\"Q3_V2\"] <- paste(df$Q3, \"Q3\", \"_\")\n",
    "df[\"Q7_V2\"] <- paste(df$Q7, \"Q7\", \"_\")\n",
    "df[\"Q10_V2\"] <- paste(df$Q10, \"Q10\", \"_\")\n",
    "df[\"Q12_V2\"] <- paste(df$Q12, \"Q12\", \"_\")\n",
    "df[\"Q15_V2\"] <- paste(df$Q15, \"Q15\", \"_\")\n",
    "df[\"Q21_V2\"] <- paste(df$Q21, \"Q21\", \"_\")\n",
    "df[\"Q23_V2\"] <- paste(df$Q23, \"Q23\", \"_\")"
   ]
  },
  {
   "cell_type": "markdown",
   "metadata": {},
   "source": [
    "### Regras de Associação"
   ]
  },
  {
   "cell_type": "code",
   "execution_count": 4,
   "metadata": {},
   "outputs": [
    {
     "name": "stderr",
     "output_type": "stream",
     "text": [
      "Loading required package: Matrix\n",
      "\n",
      "\n",
      "Attaching package: ‘arules’\n",
      "\n",
      "\n",
      "The following objects are masked from ‘package:base’:\n",
      "\n",
      "    abbreviate, write\n",
      "\n",
      "\n"
     ]
    }
   ],
   "source": [
    "library(arules)"
   ]
  },
  {
   "cell_type": "code",
   "execution_count": 5,
   "metadata": {},
   "outputs": [],
   "source": [
    "# colunas de dados tratados\n",
    "cols = c(3, 37:58)\n",
    "df2 <- df[, cols]"
   ]
  },
  {
   "cell_type": "code",
   "execution_count": 6,
   "metadata": {},
   "outputs": [
    {
     "data": {
      "text/html": [
       "<table>\n",
       "<caption>A data.frame: 3 × 23</caption>\n",
       "<thead>\n",
       "\t<tr><th></th><th scope=col>faixa_idade</th><th scope=col>Q2_V2</th><th scope=col>Q5_V2</th><th scope=col>Q6_V2</th><th scope=col>Q8_V2</th><th scope=col>Q16_V2</th><th scope=col>Q17_V2</th><th scope=col>Q18_V2</th><th scope=col>Q20_V2</th><th scope=col>Q1_V2</th><th scope=col>⋯</th><th scope=col>Q25_V2</th><th scope=col>Q13_V2</th><th scope=col>Q22_V2</th><th scope=col>Q3_V2</th><th scope=col>Q7_V2</th><th scope=col>Q10_V2</th><th scope=col>Q12_V2</th><th scope=col>Q15_V2</th><th scope=col>Q21_V2</th><th scope=col>Q23_V2</th></tr>\n",
       "\t<tr><th></th><th scope=col>&lt;fct&gt;</th><th scope=col>&lt;fct&gt;</th><th scope=col>&lt;fct&gt;</th><th scope=col>&lt;fct&gt;</th><th scope=col>&lt;fct&gt;</th><th scope=col>&lt;fct&gt;</th><th scope=col>&lt;fct&gt;</th><th scope=col>&lt;fct&gt;</th><th scope=col>&lt;fct&gt;</th><th scope=col>&lt;fct&gt;</th><th scope=col>⋯</th><th scope=col>&lt;fct&gt;</th><th scope=col>&lt;fct&gt;</th><th scope=col>&lt;fct&gt;</th><th scope=col>&lt;chr&gt;</th><th scope=col>&lt;chr&gt;</th><th scope=col>&lt;chr&gt;</th><th scope=col>&lt;chr&gt;</th><th scope=col>&lt;chr&gt;</th><th scope=col>&lt;chr&gt;</th><th scope=col>&lt;chr&gt;</th></tr>\n",
       "</thead>\n",
       "<tbody>\n",
       "\t<tr><th scope=row>1</th><td>idade_20a29</td><td>naoSePreocupaComoEstaEnve</td><td>PlanejamentoAjudaSimNoProcesso</td><td>sePreocupaEstarInformado</td><td>NaoFezCursoRecente</td><td>NaopossuiPlanoFinanMensal</td><td>possuiInvestimento   </td><td>BomConvivioSim</td><td>EssasPessoasNaoPodemAjudarNoFuturo</td><td>planeja_proximos_5anos</td><td>⋯</td><td>Website_Q25 WhatsApp_Q25</td><td>exames1vezAno</td><td>AppMuitoUtil      </td><td>1 Q3 _</td><td>4 Q7 _</td><td>4 Q10 _</td><td>3 Q12 _</td><td>4 Q15 _</td><td>3 Q21 _</td><td>2 Q23 _</td></tr>\n",
       "\t<tr><th scope=row>2</th><td>idade_30a39</td><td>sePreocupaComoEstaEnve   </td><td>PlanejamentoAjudaSimNoProcesso</td><td>sePreocupaEstarInformado</td><td>NaoFezCursoRecente</td><td>possuiPlanoFinanMensal   </td><td>NaoPossuiInvestimento</td><td>BomConvivioSim</td><td>EssasPessoasPodemAjudarNoFuturo   </td><td>planeja_proximos_5anos</td><td>⋯</td><td>WhatsApp_Q25            </td><td>exames1vezAno</td><td>AppQuaseNaoUtilizo</td><td>2 Q3 _</td><td>3 Q7 _</td><td>4 Q10 _</td><td>2 Q12 _</td><td>4 Q15 _</td><td>5 Q21 _</td><td>3 Q23 _</td></tr>\n",
       "\t<tr><th scope=row>3</th><td>idade_30a39</td><td>sePreocupaComoEstaEnve   </td><td>PlanejamentoAjudaSimNoProcesso</td><td>sePreocupaEstarInformado</td><td>FezCursoRecente   </td><td>possuiPlanoFinanMensal   </td><td>possuiInvestimento   </td><td>BomConvivioSim</td><td>EssasPessoasPodemAjudarNoFuturo   </td><td>planeja_proximos_5anos</td><td>⋯</td><td>App_para_celular_Q25    </td><td>exames1vezAno</td><td>AppNaoPossuo      </td><td>5 Q3 _</td><td>3 Q7 _</td><td>4 Q10 _</td><td>3 Q12 _</td><td>3 Q15 _</td><td>5 Q21 _</td><td>1 Q23 _</td></tr>\n",
       "</tbody>\n",
       "</table>\n"
      ],
      "text/latex": [
       "A data.frame: 3 × 23\n",
       "\\begin{tabular}{r|lllllllllllllllllllll}\n",
       "  & faixa\\_idade & Q2\\_V2 & Q5\\_V2 & Q6\\_V2 & Q8\\_V2 & Q16\\_V2 & Q17\\_V2 & Q18\\_V2 & Q20\\_V2 & Q1\\_V2 & ⋯ & Q25\\_V2 & Q13\\_V2 & Q22\\_V2 & Q3\\_V2 & Q7\\_V2 & Q10\\_V2 & Q12\\_V2 & Q15\\_V2 & Q21\\_V2 & Q23\\_V2\\\\\n",
       "  & <fct> & <fct> & <fct> & <fct> & <fct> & <fct> & <fct> & <fct> & <fct> & <fct> & ⋯ & <fct> & <fct> & <fct> & <chr> & <chr> & <chr> & <chr> & <chr> & <chr> & <chr>\\\\\n",
       "\\hline\n",
       "\t1 & idade\\_20a29 & naoSePreocupaComoEstaEnve & PlanejamentoAjudaSimNoProcesso & sePreocupaEstarInformado & NaoFezCursoRecente & NaopossuiPlanoFinanMensal & possuiInvestimento    & BomConvivioSim & EssasPessoasNaoPodemAjudarNoFuturo & planeja\\_proximos\\_5anos & ⋯ & Website\\_Q25 WhatsApp\\_Q25 & exames1vezAno & AppMuitoUtil       & 1 Q3 \\_ & 4 Q7 \\_ & 4 Q10 \\_ & 3 Q12 \\_ & 4 Q15 \\_ & 3 Q21 \\_ & 2 Q23 \\_\\\\\n",
       "\t2 & idade\\_30a39 & sePreocupaComoEstaEnve    & PlanejamentoAjudaSimNoProcesso & sePreocupaEstarInformado & NaoFezCursoRecente & possuiPlanoFinanMensal    & NaoPossuiInvestimento & BomConvivioSim & EssasPessoasPodemAjudarNoFuturo    & planeja\\_proximos\\_5anos & ⋯ & WhatsApp\\_Q25             & exames1vezAno & AppQuaseNaoUtilizo & 2 Q3 \\_ & 3 Q7 \\_ & 4 Q10 \\_ & 2 Q12 \\_ & 4 Q15 \\_ & 5 Q21 \\_ & 3 Q23 \\_\\\\\n",
       "\t3 & idade\\_30a39 & sePreocupaComoEstaEnve    & PlanejamentoAjudaSimNoProcesso & sePreocupaEstarInformado & FezCursoRecente    & possuiPlanoFinanMensal    & possuiInvestimento    & BomConvivioSim & EssasPessoasPodemAjudarNoFuturo    & planeja\\_proximos\\_5anos & ⋯ & App\\_para\\_celular\\_Q25     & exames1vezAno & AppNaoPossuo       & 5 Q3 \\_ & 3 Q7 \\_ & 4 Q10 \\_ & 3 Q12 \\_ & 3 Q15 \\_ & 5 Q21 \\_ & 1 Q23 \\_\\\\\n",
       "\\end{tabular}\n"
      ],
      "text/markdown": [
       "\n",
       "A data.frame: 3 × 23\n",
       "\n",
       "| <!--/--> | faixa_idade &lt;fct&gt; | Q2_V2 &lt;fct&gt; | Q5_V2 &lt;fct&gt; | Q6_V2 &lt;fct&gt; | Q8_V2 &lt;fct&gt; | Q16_V2 &lt;fct&gt; | Q17_V2 &lt;fct&gt; | Q18_V2 &lt;fct&gt; | Q20_V2 &lt;fct&gt; | Q1_V2 &lt;fct&gt; | ⋯ ⋯ | Q25_V2 &lt;fct&gt; | Q13_V2 &lt;fct&gt; | Q22_V2 &lt;fct&gt; | Q3_V2 &lt;chr&gt; | Q7_V2 &lt;chr&gt; | Q10_V2 &lt;chr&gt; | Q12_V2 &lt;chr&gt; | Q15_V2 &lt;chr&gt; | Q21_V2 &lt;chr&gt; | Q23_V2 &lt;chr&gt; |\n",
       "|---|---|---|---|---|---|---|---|---|---|---|---|---|---|---|---|---|---|---|---|---|---|\n",
       "| 1 | idade_20a29 | naoSePreocupaComoEstaEnve | PlanejamentoAjudaSimNoProcesso | sePreocupaEstarInformado | NaoFezCursoRecente | NaopossuiPlanoFinanMensal | possuiInvestimento    | BomConvivioSim | EssasPessoasNaoPodemAjudarNoFuturo | planeja_proximos_5anos | ⋯ | Website_Q25 WhatsApp_Q25 | exames1vezAno | AppMuitoUtil       | 1 Q3 _ | 4 Q7 _ | 4 Q10 _ | 3 Q12 _ | 4 Q15 _ | 3 Q21 _ | 2 Q23 _ |\n",
       "| 2 | idade_30a39 | sePreocupaComoEstaEnve    | PlanejamentoAjudaSimNoProcesso | sePreocupaEstarInformado | NaoFezCursoRecente | possuiPlanoFinanMensal    | NaoPossuiInvestimento | BomConvivioSim | EssasPessoasPodemAjudarNoFuturo    | planeja_proximos_5anos | ⋯ | WhatsApp_Q25             | exames1vezAno | AppQuaseNaoUtilizo | 2 Q3 _ | 3 Q7 _ | 4 Q10 _ | 2 Q12 _ | 4 Q15 _ | 5 Q21 _ | 3 Q23 _ |\n",
       "| 3 | idade_30a39 | sePreocupaComoEstaEnve    | PlanejamentoAjudaSimNoProcesso | sePreocupaEstarInformado | FezCursoRecente    | possuiPlanoFinanMensal    | possuiInvestimento    | BomConvivioSim | EssasPessoasPodemAjudarNoFuturo    | planeja_proximos_5anos | ⋯ | App_para_celular_Q25     | exames1vezAno | AppNaoPossuo       | 5 Q3 _ | 3 Q7 _ | 4 Q10 _ | 3 Q12 _ | 3 Q15 _ | 5 Q21 _ | 1 Q23 _ |\n",
       "\n"
      ],
      "text/plain": [
       "  faixa_idade Q2_V2                     Q5_V2                         \n",
       "1 idade_20a29 naoSePreocupaComoEstaEnve PlanejamentoAjudaSimNoProcesso\n",
       "2 idade_30a39 sePreocupaComoEstaEnve    PlanejamentoAjudaSimNoProcesso\n",
       "3 idade_30a39 sePreocupaComoEstaEnve    PlanejamentoAjudaSimNoProcesso\n",
       "  Q6_V2                    Q8_V2              Q16_V2                   \n",
       "1 sePreocupaEstarInformado NaoFezCursoRecente NaopossuiPlanoFinanMensal\n",
       "2 sePreocupaEstarInformado NaoFezCursoRecente possuiPlanoFinanMensal   \n",
       "3 sePreocupaEstarInformado FezCursoRecente    possuiPlanoFinanMensal   \n",
       "  Q17_V2                Q18_V2         Q20_V2                            \n",
       "1 possuiInvestimento    BomConvivioSim EssasPessoasNaoPodemAjudarNoFuturo\n",
       "2 NaoPossuiInvestimento BomConvivioSim EssasPessoasPodemAjudarNoFuturo   \n",
       "3 possuiInvestimento    BomConvivioSim EssasPessoasPodemAjudarNoFuturo   \n",
       "  Q1_V2                  ⋯ Q25_V2                   Q13_V2       \n",
       "1 planeja_proximos_5anos ⋯ Website_Q25 WhatsApp_Q25 exames1vezAno\n",
       "2 planeja_proximos_5anos ⋯ WhatsApp_Q25             exames1vezAno\n",
       "3 planeja_proximos_5anos ⋯ App_para_celular_Q25     exames1vezAno\n",
       "  Q22_V2             Q3_V2  Q7_V2  Q10_V2  Q12_V2  Q15_V2  Q21_V2  Q23_V2 \n",
       "1 AppMuitoUtil       1 Q3 _ 4 Q7 _ 4 Q10 _ 3 Q12 _ 4 Q15 _ 3 Q21 _ 2 Q23 _\n",
       "2 AppQuaseNaoUtilizo 2 Q3 _ 3 Q7 _ 4 Q10 _ 2 Q12 _ 4 Q15 _ 5 Q21 _ 3 Q23 _\n",
       "3 AppNaoPossuo       5 Q3 _ 3 Q7 _ 4 Q10 _ 3 Q12 _ 3 Q15 _ 5 Q21 _ 1 Q23 _"
      ]
     },
     "metadata": {},
     "output_type": "display_data"
    }
   ],
   "source": [
    "head(df2, 3)"
   ]
  },
  {
   "cell_type": "code",
   "execution_count": 7,
   "metadata": {},
   "outputs": [],
   "source": [
    "# coluna com todos os dados concatenados\n",
    "# por row\n",
    "df2['AllData'] = paste(df2$faixa_idade,\n",
    "                       df2$Q2_V2, \n",
    "                       df2$Q4_V2,\n",
    "                       df2$Q9_V2,\n",
    "                       df2$Q25_V2,\n",
    "                       df2$Q5_V2,\n",
    "                       df2$Q6_V2,\n",
    "                       df2$Q8_V2,\n",
    "                       df2$Q16_V2,\n",
    "                       df2$Q17_V2,\n",
    "                       df2$Q18_V2,\n",
    "                       df2$Q20_V2,\n",
    "                       df2$Q13_V2,\n",
    "                       df2$Q1_V2,\n",
    "                       df2$Q11_V2,\n",
    "                       df2$Q22_V2,\n",
    "                       df2$Q3_choice,\n",
    "                       df2$Q7_choice,\n",
    "                       df2$Q10_choice,\n",
    "                       df2$Q12_choice,\n",
    "                       df2$Q15_choice,\n",
    "                       df2$Q21_choice,\n",
    "                       df2$Q23_choice,\n",
    "                       sep = ' ')"
   ]
  },
  {
   "cell_type": "code",
   "execution_count": 8,
   "metadata": {},
   "outputs": [
    {
     "data": {
      "text/html": [
       "<table>\n",
       "<caption>A data.frame: 2 × 24</caption>\n",
       "<thead>\n",
       "\t<tr><th></th><th scope=col>faixa_idade</th><th scope=col>Q2_V2</th><th scope=col>Q5_V2</th><th scope=col>Q6_V2</th><th scope=col>Q8_V2</th><th scope=col>Q16_V2</th><th scope=col>Q17_V2</th><th scope=col>Q18_V2</th><th scope=col>Q20_V2</th><th scope=col>Q1_V2</th><th scope=col>⋯</th><th scope=col>Q13_V2</th><th scope=col>Q22_V2</th><th scope=col>Q3_V2</th><th scope=col>Q7_V2</th><th scope=col>Q10_V2</th><th scope=col>Q12_V2</th><th scope=col>Q15_V2</th><th scope=col>Q21_V2</th><th scope=col>Q23_V2</th><th scope=col>AllData</th></tr>\n",
       "\t<tr><th></th><th scope=col>&lt;fct&gt;</th><th scope=col>&lt;fct&gt;</th><th scope=col>&lt;fct&gt;</th><th scope=col>&lt;fct&gt;</th><th scope=col>&lt;fct&gt;</th><th scope=col>&lt;fct&gt;</th><th scope=col>&lt;fct&gt;</th><th scope=col>&lt;fct&gt;</th><th scope=col>&lt;fct&gt;</th><th scope=col>&lt;fct&gt;</th><th scope=col>⋯</th><th scope=col>&lt;fct&gt;</th><th scope=col>&lt;fct&gt;</th><th scope=col>&lt;chr&gt;</th><th scope=col>&lt;chr&gt;</th><th scope=col>&lt;chr&gt;</th><th scope=col>&lt;chr&gt;</th><th scope=col>&lt;chr&gt;</th><th scope=col>&lt;chr&gt;</th><th scope=col>&lt;chr&gt;</th><th scope=col>&lt;chr&gt;</th></tr>\n",
       "</thead>\n",
       "<tbody>\n",
       "\t<tr><th scope=row>1</th><td>idade_20a29</td><td>naoSePreocupaComoEstaEnve</td><td>PlanejamentoAjudaSimNoProcesso</td><td>sePreocupaEstarInformado</td><td>NaoFezCursoRecente</td><td>NaopossuiPlanoFinanMensal</td><td>possuiInvestimento   </td><td>BomConvivioSim</td><td>EssasPessoasNaoPodemAjudarNoFuturo</td><td>planeja_proximos_5anos</td><td>⋯</td><td>exames1vezAno</td><td>AppMuitoUtil      </td><td>1 Q3 _</td><td>4 Q7 _</td><td>4 Q10 _</td><td>3 Q12 _</td><td>4 Q15 _</td><td>3 Q21 _</td><td>2 Q23 _</td><td>idade_20a29 naoSePreocupaComoEstaEnve Relacionamentos_Q4 Financeiro_Q4 asdfasdf_Q4 Mídias_Sociais_Q9 Revistas_e_Jornais_Q9 Website_Q25 WhatsApp_Q25 PlanejamentoAjudaSimNoProcesso sePreocupaEstarInformado NaoFezCursoRecente NaopossuiPlanoFinanMensal possuiInvestimento BomConvivioSim EssasPessoasNaoPodemAjudarNoFuturo exames1vezAno planeja_proximos_5anos exercicios1a3vzSemana AppMuitoUtil       </td></tr>\n",
       "\t<tr><th scope=row>2</th><td>idade_30a39</td><td>sePreocupaComoEstaEnve   </td><td>PlanejamentoAjudaSimNoProcesso</td><td>sePreocupaEstarInformado</td><td>NaoFezCursoRecente</td><td>possuiPlanoFinanMensal   </td><td>NaoPossuiInvestimento</td><td>BomConvivioSim</td><td>EssasPessoasPodemAjudarNoFuturo   </td><td>planeja_proximos_5anos</td><td>⋯</td><td>exames1vezAno</td><td>AppQuaseNaoUtilizo</td><td>2 Q3 _</td><td>3 Q7 _</td><td>4 Q10 _</td><td>2 Q12 _</td><td>4 Q15 _</td><td>5 Q21 _</td><td>3 Q23 _</td><td>idade_30a39 sePreocupaComoEstaEnve Relacionamentos_Q4 Financeiro_Q4 Saúde_Q4 Mídias_Sociais_Q9 WhatsApp_Q25 PlanejamentoAjudaSimNoProcesso sePreocupaEstarInformado NaoFezCursoRecente possuiPlanoFinanMensal NaoPossuiInvestimento BomConvivioSim EssasPessoasPodemAjudarNoFuturo exames1vezAno planeja_proximos_5anos naoPraticaExercicios AppQuaseNaoUtilizo                                             </td></tr>\n",
       "</tbody>\n",
       "</table>\n"
      ],
      "text/latex": [
       "A data.frame: 2 × 24\n",
       "\\begin{tabular}{r|lllllllllllllllllllll}\n",
       "  & faixa\\_idade & Q2\\_V2 & Q5\\_V2 & Q6\\_V2 & Q8\\_V2 & Q16\\_V2 & Q17\\_V2 & Q18\\_V2 & Q20\\_V2 & Q1\\_V2 & ⋯ & Q13\\_V2 & Q22\\_V2 & Q3\\_V2 & Q7\\_V2 & Q10\\_V2 & Q12\\_V2 & Q15\\_V2 & Q21\\_V2 & Q23\\_V2 & AllData\\\\\n",
       "  & <fct> & <fct> & <fct> & <fct> & <fct> & <fct> & <fct> & <fct> & <fct> & <fct> & ⋯ & <fct> & <fct> & <chr> & <chr> & <chr> & <chr> & <chr> & <chr> & <chr> & <chr>\\\\\n",
       "\\hline\n",
       "\t1 & idade\\_20a29 & naoSePreocupaComoEstaEnve & PlanejamentoAjudaSimNoProcesso & sePreocupaEstarInformado & NaoFezCursoRecente & NaopossuiPlanoFinanMensal & possuiInvestimento    & BomConvivioSim & EssasPessoasNaoPodemAjudarNoFuturo & planeja\\_proximos\\_5anos & ⋯ & exames1vezAno & AppMuitoUtil       & 1 Q3 \\_ & 4 Q7 \\_ & 4 Q10 \\_ & 3 Q12 \\_ & 4 Q15 \\_ & 3 Q21 \\_ & 2 Q23 \\_ & idade\\_20a29 naoSePreocupaComoEstaEnve Relacionamentos\\_Q4 Financeiro\\_Q4 asdfasdf\\_Q4 Mídias\\_Sociais\\_Q9 Revistas\\_e\\_Jornais\\_Q9 Website\\_Q25 WhatsApp\\_Q25 PlanejamentoAjudaSimNoProcesso sePreocupaEstarInformado NaoFezCursoRecente NaopossuiPlanoFinanMensal possuiInvestimento BomConvivioSim EssasPessoasNaoPodemAjudarNoFuturo exames1vezAno planeja\\_proximos\\_5anos exercicios1a3vzSemana AppMuitoUtil       \\\\\n",
       "\t2 & idade\\_30a39 & sePreocupaComoEstaEnve    & PlanejamentoAjudaSimNoProcesso & sePreocupaEstarInformado & NaoFezCursoRecente & possuiPlanoFinanMensal    & NaoPossuiInvestimento & BomConvivioSim & EssasPessoasPodemAjudarNoFuturo    & planeja\\_proximos\\_5anos & ⋯ & exames1vezAno & AppQuaseNaoUtilizo & 2 Q3 \\_ & 3 Q7 \\_ & 4 Q10 \\_ & 2 Q12 \\_ & 4 Q15 \\_ & 5 Q21 \\_ & 3 Q23 \\_ & idade\\_30a39 sePreocupaComoEstaEnve Relacionamentos\\_Q4 Financeiro\\_Q4 Saúde\\_Q4 Mídias\\_Sociais\\_Q9 WhatsApp\\_Q25 PlanejamentoAjudaSimNoProcesso sePreocupaEstarInformado NaoFezCursoRecente possuiPlanoFinanMensal NaoPossuiInvestimento BomConvivioSim EssasPessoasPodemAjudarNoFuturo exames1vezAno planeja\\_proximos\\_5anos naoPraticaExercicios AppQuaseNaoUtilizo                                             \\\\\n",
       "\\end{tabular}\n"
      ],
      "text/markdown": [
       "\n",
       "A data.frame: 2 × 24\n",
       "\n",
       "| <!--/--> | faixa_idade &lt;fct&gt; | Q2_V2 &lt;fct&gt; | Q5_V2 &lt;fct&gt; | Q6_V2 &lt;fct&gt; | Q8_V2 &lt;fct&gt; | Q16_V2 &lt;fct&gt; | Q17_V2 &lt;fct&gt; | Q18_V2 &lt;fct&gt; | Q20_V2 &lt;fct&gt; | Q1_V2 &lt;fct&gt; | ⋯ ⋯ | Q13_V2 &lt;fct&gt; | Q22_V2 &lt;fct&gt; | Q3_V2 &lt;chr&gt; | Q7_V2 &lt;chr&gt; | Q10_V2 &lt;chr&gt; | Q12_V2 &lt;chr&gt; | Q15_V2 &lt;chr&gt; | Q21_V2 &lt;chr&gt; | Q23_V2 &lt;chr&gt; | AllData &lt;chr&gt; |\n",
       "|---|---|---|---|---|---|---|---|---|---|---|---|---|---|---|---|---|---|---|---|---|---|\n",
       "| 1 | idade_20a29 | naoSePreocupaComoEstaEnve | PlanejamentoAjudaSimNoProcesso | sePreocupaEstarInformado | NaoFezCursoRecente | NaopossuiPlanoFinanMensal | possuiInvestimento    | BomConvivioSim | EssasPessoasNaoPodemAjudarNoFuturo | planeja_proximos_5anos | ⋯ | exames1vezAno | AppMuitoUtil       | 1 Q3 _ | 4 Q7 _ | 4 Q10 _ | 3 Q12 _ | 4 Q15 _ | 3 Q21 _ | 2 Q23 _ | idade_20a29 naoSePreocupaComoEstaEnve Relacionamentos_Q4 Financeiro_Q4 asdfasdf_Q4 Mídias_Sociais_Q9 Revistas_e_Jornais_Q9 Website_Q25 WhatsApp_Q25 PlanejamentoAjudaSimNoProcesso sePreocupaEstarInformado NaoFezCursoRecente NaopossuiPlanoFinanMensal possuiInvestimento BomConvivioSim EssasPessoasNaoPodemAjudarNoFuturo exames1vezAno planeja_proximos_5anos exercicios1a3vzSemana AppMuitoUtil        |\n",
       "| 2 | idade_30a39 | sePreocupaComoEstaEnve    | PlanejamentoAjudaSimNoProcesso | sePreocupaEstarInformado | NaoFezCursoRecente | possuiPlanoFinanMensal    | NaoPossuiInvestimento | BomConvivioSim | EssasPessoasPodemAjudarNoFuturo    | planeja_proximos_5anos | ⋯ | exames1vezAno | AppQuaseNaoUtilizo | 2 Q3 _ | 3 Q7 _ | 4 Q10 _ | 2 Q12 _ | 4 Q15 _ | 5 Q21 _ | 3 Q23 _ | idade_30a39 sePreocupaComoEstaEnve Relacionamentos_Q4 Financeiro_Q4 Saúde_Q4 Mídias_Sociais_Q9 WhatsApp_Q25 PlanejamentoAjudaSimNoProcesso sePreocupaEstarInformado NaoFezCursoRecente possuiPlanoFinanMensal NaoPossuiInvestimento BomConvivioSim EssasPessoasPodemAjudarNoFuturo exames1vezAno planeja_proximos_5anos naoPraticaExercicios AppQuaseNaoUtilizo                                              |\n",
       "\n"
      ],
      "text/plain": [
       "  faixa_idade Q2_V2                     Q5_V2                         \n",
       "1 idade_20a29 naoSePreocupaComoEstaEnve PlanejamentoAjudaSimNoProcesso\n",
       "2 idade_30a39 sePreocupaComoEstaEnve    PlanejamentoAjudaSimNoProcesso\n",
       "  Q6_V2                    Q8_V2              Q16_V2                   \n",
       "1 sePreocupaEstarInformado NaoFezCursoRecente NaopossuiPlanoFinanMensal\n",
       "2 sePreocupaEstarInformado NaoFezCursoRecente possuiPlanoFinanMensal   \n",
       "  Q17_V2                Q18_V2         Q20_V2                            \n",
       "1 possuiInvestimento    BomConvivioSim EssasPessoasNaoPodemAjudarNoFuturo\n",
       "2 NaoPossuiInvestimento BomConvivioSim EssasPessoasPodemAjudarNoFuturo   \n",
       "  Q1_V2                  ⋯ Q13_V2        Q22_V2             Q3_V2  Q7_V2 \n",
       "1 planeja_proximos_5anos ⋯ exames1vezAno AppMuitoUtil       1 Q3 _ 4 Q7 _\n",
       "2 planeja_proximos_5anos ⋯ exames1vezAno AppQuaseNaoUtilizo 2 Q3 _ 3 Q7 _\n",
       "  Q10_V2  Q12_V2  Q15_V2  Q21_V2  Q23_V2 \n",
       "1 4 Q10 _ 3 Q12 _ 4 Q15 _ 3 Q21 _ 2 Q23 _\n",
       "2 4 Q10 _ 2 Q12 _ 4 Q15 _ 5 Q21 _ 3 Q23 _\n",
       "  AllData                                                                                                                                                                                                                                                                                                                                                                                                     \n",
       "1 idade_20a29 naoSePreocupaComoEstaEnve Relacionamentos_Q4 Financeiro_Q4 asdfasdf_Q4 Mídias_Sociais_Q9 Revistas_e_Jornais_Q9 Website_Q25 WhatsApp_Q25 PlanejamentoAjudaSimNoProcesso sePreocupaEstarInformado NaoFezCursoRecente NaopossuiPlanoFinanMensal possuiInvestimento BomConvivioSim EssasPessoasNaoPodemAjudarNoFuturo exames1vezAno planeja_proximos_5anos exercicios1a3vzSemana AppMuitoUtil       \n",
       "2 idade_30a39 sePreocupaComoEstaEnve Relacionamentos_Q4 Financeiro_Q4 Saúde_Q4 Mídias_Sociais_Q9 WhatsApp_Q25 PlanejamentoAjudaSimNoProcesso sePreocupaEstarInformado NaoFezCursoRecente possuiPlanoFinanMensal NaoPossuiInvestimento BomConvivioSim EssasPessoasPodemAjudarNoFuturo exames1vezAno planeja_proximos_5anos naoPraticaExercicios AppQuaseNaoUtilizo                                             "
      ]
     },
     "metadata": {},
     "output_type": "display_data"
    }
   ],
   "source": [
    "head(df2, 2)"
   ]
  },
  {
   "cell_type": "code",
   "execution_count": 9,
   "metadata": {},
   "outputs": [
    {
     "name": "stderr",
     "output_type": "stream",
     "text": [
      "Warning message in asMethod(object):\n",
      "“removing duplicated items in transactions”\n"
     ]
    },
    {
     "data": {
      "text/plain": [
       "transactions in sparse format with\n",
       " 108 transactions (rows) and\n",
       " 87 items (columns)"
      ]
     },
     "metadata": {},
     "output_type": "display_data"
    }
   ],
   "source": [
    "# Criando um objeto arules\n",
    "items <- strsplit(df2$AllData, \" \")\n",
    "respostas <- as(items, \"transactions\")\n",
    "respostas"
   ]
  },
  {
   "cell_type": "code",
   "execution_count": 10,
   "metadata": {},
   "outputs": [
    {
     "data": {
      "text/plain": [
       "transactions as itemMatrix in sparse format with\n",
       " 108 rows (elements/itemsets/transactions) and\n",
       " 87 columns (items) and a density of 0.2309493 \n",
       "\n",
       "most frequent items:\n",
       "                                   BomConvivioSim sePreocupaEstarInformado \n",
       "                     108                      104                      101 \n",
       "  sePreocupaComoEstaEnve                 Saúde_Q4                  (Other) \n",
       "                      88                       87                     1682 \n",
       "\n",
       "element (itemset/transaction) length distribution:\n",
       "sizes\n",
       "17 18 19 20 21 22 23 24 \n",
       "11  8 18 23 28 12  7  1 \n",
       "\n",
       "   Min. 1st Qu.  Median    Mean 3rd Qu.    Max. \n",
       "  17.00   19.00   20.00   20.09   21.00   24.00 \n",
       "\n",
       "includes extended item information - examples:\n",
       "                                  labels\n",
       "1                                       \n",
       "2                                  -_Q25\n",
       "3 Aplicativo_de_noticias_selecionadas_Q9"
      ]
     },
     "metadata": {},
     "output_type": "display_data"
    }
   ],
   "source": [
    "summary(respostas)"
   ]
  },
  {
   "cell_type": "code",
   "execution_count": 11,
   "metadata": {},
   "outputs": [
    {
     "data": {
      "image/png": "[encoded data removed]",
      "text/plain": [
       "Plot with title “Ítens Mais Frequentes”"
      ]
     },
     "metadata": {
      "image/png": {
       "height": 240,
       "width": 480
      },
      "text/plain": {
       "height": 240,
       "width": 480
      }
     },
     "output_type": "display_data"
    }
   ],
   "source": [
    "options(repr.plot.width=8, repr.plot.height=4)\n",
    "itemFrequencyPlot(respostas, topN=10, type=\"absolute\", main=\"Ítens Mais Frequentes\")"
   ]
  },
  {
   "cell_type": "code",
   "execution_count": 26,
   "metadata": {},
   "outputs": [
    {
     "name": "stdout",
     "output_type": "stream",
     "text": [
      "Apriori\n",
      "\n",
      "Parameter specification:\n",
      " confidence minval smax arem  aval originalSupport maxtime support minlen\n",
      "        0.5    0.1    1 none FALSE            TRUE       5     0.3      1\n",
      " maxlen target  ext\n",
      "     10  rules TRUE\n",
      "\n",
      "Algorithmic control:\n",
      " filter tree heap memopt load sort verbose\n",
      "    0.1 TRUE TRUE  FALSE TRUE    2    TRUE\n",
      "\n",
      "Absolute minimum support count: 32 \n",
      "\n",
      "set item appearances ...[0 item(s)] done [0.00s].\n",
      "set transactions ...[87 item(s), 108 transaction(s)] done [0.00s].\n",
      "sorting and recoding items ... [24 item(s)] done [0.00s].\n",
      "creating transaction tree ... done [0.00s].\n",
      "checking subsets of size 1 2 3 4 5 6 7 8 done [0.00s].\n",
      "writing ... [21864 rule(s)] done [0.00s].\n",
      "creating S4 object  ... done [0.00s].\n"
     ]
    }
   ],
   "source": [
    "# criando regras de associação\n",
    "rules <- apriori(respostas, parameter = list(supp = 0.3, conf = 0.5)) \n",
    "rules_conf <- sort(rules, by=\"confidence\", decreasing=TRUE)"
   ]
  },
  {
   "cell_type": "code",
   "execution_count": 30,
   "metadata": {},
   "outputs": [],
   "source": [
    "# obtendo subset de rules redundantes\n",
    "subsetRules <- which(colSums(is.subset(rules, rules)) > 2)\n",
    "\n",
    "# removendo o subset de rules\n",
    "# redundantes\n",
    "rules_sub <- rules[-subsetRules]"
   ]
  },
  {
   "cell_type": "code",
   "execution_count": 31,
   "metadata": {},
   "outputs": [
    {
     "name": "stdout",
     "output_type": "stream",
     "text": [
      "     lhs                        rhs                                 support confidence  coverage      lift count\n",
      "[1]  {}                      => {planeja_proximos_5anos}          0.5277778  0.5277778 1.0000000 1.0000000    57\n",
      "[2]  {}                      => {AppMuitoUtil}                    0.5648148  0.5648148 1.0000000 1.0000000    61\n",
      "[3]  {}                      => {Relacionamentos_Q4}              0.5555556  0.5555556 1.0000000 1.0000000    60\n",
      "[4]  {}                      => {exames1vezAno}                   0.6296296  0.6296296 1.0000000 1.0000000    68\n",
      "[5]  {}                      => {Mídias_Sociais_Q9}               0.6296296  0.6296296 1.0000000 1.0000000    68\n",
      "[6]  {}                      => {App_para_celular_Q25}            0.6481481  0.6481481 1.0000000 1.0000000    70\n",
      "[7]  {}                      => {possuiInvestimento}              0.6759259  0.6759259 1.0000000 1.0000000    73\n",
      "[8]  {}                      => {PlanejamentoAjudaSimNoProcesso}  0.7037037  0.7037037 1.0000000 1.0000000    76\n",
      "[9]  {}                      => {possuiPlanoFinanMensal}          0.7037037  0.7037037 1.0000000 1.0000000    76\n",
      "[10] {}                      => {EssasPessoasPodemAjudarNoFuturo} 0.7037037  0.7037037 1.0000000 1.0000000    76\n",
      "[11] {}                      => {FezCursoRecente}                 0.7314815  0.7314815 1.0000000 1.0000000    79\n",
      "[12] {}                      => {Financeiro_Q4}                   0.7314815  0.7314815 1.0000000 1.0000000    79\n",
      "[13] {}                      => {Sites_e_Blogs_Q9}                0.7685185  0.7685185 1.0000000 1.0000000    83\n",
      "[14] {}                      => {Saúde_Q4}                        0.8055556  0.8055556 1.0000000 1.0000000    87\n",
      "[15] {}                      => {sePreocupaComoEstaEnve}          0.8148148  0.8148148 1.0000000 1.0000000    88\n",
      "[16] {}                      => {sePreocupaEstarInformado}        0.9351852  0.9351852 1.0000000 1.0000000   101\n",
      "[17] {}                      => {BomConvivioSim}                  0.9629630  0.9629630 1.0000000 1.0000000   104\n",
      "[18] {}                      => {}                                1.0000000  1.0000000 1.0000000 1.0000000   108\n",
      "[19] {NaoPossuiInvestimento} => {BomConvivioSim}                  0.3148148  0.9714286 0.3240741 1.0087912    34\n",
      "[20] {NaoPossuiInvestimento} => {}                                0.3240741  1.0000000 0.3240741 1.0000000    35\n",
      "[21] {nao_planeja_vida}      => {BomConvivioSim}                  0.3148148  0.9444444 0.3333333 0.9807692    34\n",
      "[22] {nao_planeja_vida}      => {}                                0.3333333  1.0000000 0.3333333 1.0000000    36\n",
      "[23] {Conhecimento_Q4}       => {FezCursoRecente}                 0.3148148  0.8717949 0.3611111 1.1918208    34\n",
      "[24] {Conhecimento_Q4}       => {Sites_e_Blogs_Q9}                0.3055556  0.8461538 0.3611111 1.1010195    33\n",
      "[25] {Conhecimento_Q4}       => {sePreocupaComoEstaEnve}          0.3148148  0.8717949 0.3611111 1.0699301    34\n",
      "[26] {Conhecimento_Q4}       => {sePreocupaEstarInformado}        0.3333333  0.9230769 0.3611111 0.9870526    36\n",
      "[27] {Conhecimento_Q4}       => {BomConvivioSim}                  0.3518519  0.9743590 0.3611111 1.0118343    38\n",
      "[28] {Conhecimento_Q4}       => {}                                0.3611111  1.0000000 0.3611111 1.0000000    39\n",
      "[29] {exercicios1a3vzSemana} => {possuiInvestimento}              0.3148148  0.7083333 0.4444444 1.0479452    34\n",
      "[30] {exercicios1a3vzSemana} => {possuiPlanoFinanMensal}          0.3055556  0.6875000 0.4444444 0.9769737    33\n",
      "[31] {exercicios1a3vzSemana} => {EssasPessoasPodemAjudarNoFuturo} 0.3240741  0.7291667 0.4444444 1.0361842    35\n",
      "[32] {exercicios1a3vzSemana} => {FezCursoRecente}                 0.3240741  0.7291667 0.4444444 0.9968354    35\n",
      "[33] {exercicios1a3vzSemana} => {Financeiro_Q4}                   0.3425926  0.7708333 0.4444444 1.0537975    37\n",
      "[34] {exercicios1a3vzSemana} => {Sites_e_Blogs_Q9}                0.3148148  0.7083333 0.4444444 0.9216867    34\n",
      "[35] {exercicios1a3vzSemana} => {Saúde_Q4}                        0.3518519  0.7916667 0.4444444 0.9827586    38\n",
      "[36] {exercicios1a3vzSemana} => {sePreocupaComoEstaEnve}          0.3611111  0.8125000 0.4444444 0.9971591    39\n",
      "[37] {exercicios1a3vzSemana} => {sePreocupaEstarInformado}        0.4166667  0.9375000 0.4444444 1.0024752    45\n",
      "[38] {exercicios1a3vzSemana} => {BomConvivioSim}                  0.4166667  0.9375000 0.4444444 0.9735577    45\n",
      "[39] {exercicios1a3vzSemana} => {}                                0.4444444  1.0000000 0.4444444 1.0000000    48\n",
      "[40] {WhatsApp_Q25}          => {possuiInvestimento}              0.3148148  0.6938776 0.4537037 1.0265586    34\n",
      "[41] {WhatsApp_Q25}          => {PlanejamentoAjudaSimNoProcesso}  0.3055556  0.6734694 0.4537037 0.9570354    33\n",
      "[42] {WhatsApp_Q25}          => {possuiPlanoFinanMensal}          0.3425926  0.7551020 0.4537037 1.0730397    37\n",
      "[43] {WhatsApp_Q25}          => {EssasPessoasPodemAjudarNoFuturo} 0.3055556  0.6734694 0.4537037 0.9570354    33\n",
      "[44] {WhatsApp_Q25}          => {Financeiro_Q4}                   0.3333333  0.7346939 0.4537037 1.0043916    36\n",
      "[45] {WhatsApp_Q25}          => {Sites_e_Blogs_Q9}                0.3148148  0.6938776 0.4537037 0.9028768    34\n",
      "[46] {WhatsApp_Q25}          => {Saúde_Q4}                        0.3888889  0.8571429 0.4537037 1.0640394    42\n",
      "[47] {WhatsApp_Q25}          => {sePreocupaComoEstaEnve}          0.3703704  0.8163265 0.4537037 1.0018553    40\n",
      "[48] {WhatsApp_Q25}          => {sePreocupaEstarInformado}        0.4444444  0.9795918 0.4537037 1.0474843    48\n",
      "[49] {WhatsApp_Q25}          => {BomConvivioSim}                  0.4444444  0.9795918 0.4537037 1.0172684    48\n",
      "[50] {WhatsApp_Q25}          => {}                                0.4537037  1.0000000 0.4537037 1.0000000    49\n",
      "[51] {idade_30a39}           => {Sites_e_Blogs_Q9}                0.3796296  0.7735849 0.4907407 1.0065924    41\n",
      "[52] {idade_30a39}           => {Saúde_Q4}                        0.3796296  0.7735849 0.4907407 0.9603123    41\n",
      "[53] {idade_30a39}           => {sePreocupaComoEstaEnve}          0.3981481  0.8113208 0.4907407 0.9957118    43\n",
      "[54] {idade_30a39}           => {sePreocupaEstarInformado}        0.4351852  0.8867925 0.4907407 0.9482533    47\n",
      "[55] {idade_30a39}           => {BomConvivioSim}                  0.4629630  0.9433962 0.4907407 0.9796807    50\n",
      "[56] {idade_30a39}           => {}                                0.4907407  1.0000000 0.4907407 1.0000000    53\n"
     ]
    }
   ],
   "source": [
    "# Resultado das regras\n",
    "inspect(rules_sub)"
   ]
  },
  {
   "cell_type": "code",
   "execution_count": null,
   "metadata": {},
   "outputs": [],
   "source": []
  }
 ],
 "metadata": {
  "kernelspec": {
   "display_name": "R",
   "language": "R",
   "name": "ir"
  },
  "language_info": {
   "codemirror_mode": "r",
   "file_extension": ".r",
   "mimetype": "text/x-r-source",
   "name": "R",
   "pygments_lexer": "r",
   "version": "3.4.4"
  }
 },
 "nbformat": 4,
 "nbformat_minor": 4
}
